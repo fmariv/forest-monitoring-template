{
 "cells": [
  {
   "cell_type": "code",
   "execution_count": 1,
   "id": "519f3e13",
   "metadata": {
    "execution": {
     "iopub.execute_input": "2023-11-27T09:21:21.999503Z",
     "iopub.status.busy": "2023-11-27T09:21:21.999054Z",
     "iopub.status.idle": "2023-11-27T09:21:22.370769Z",
     "shell.execute_reply": "2023-11-27T09:21:22.370485Z"
    },
    "papermill": {
     "duration": 0.380888,
     "end_time": "2023-11-27T09:21:22.371745",
     "exception": false,
     "start_time": "2023-11-27T09:21:21.990857",
     "status": "completed"
    },
    "tags": []
   },
   "outputs": [
    {
     "name": "stdout",
     "output_type": "stream",
     "text": [
      "Found the following images: []\n"
     ]
    }
   ],
   "source": [
    "from spai.storage import Storage\n",
    "\n",
    "# retrieve all images\n",
    "storage = Storage(\"../../data\")\n",
    "images = storage.list(\"NDVI*\")\n",
    "print(\"Found the following images:\", images)"
   ]
  },
  {
   "cell_type": "code",
   "execution_count": 2,
   "id": "96e42010",
   "metadata": {
    "execution": {
     "iopub.execute_input": "2023-11-27T09:21:22.374081Z",
     "iopub.status.busy": "2023-11-27T09:21:22.373902Z",
     "iopub.status.idle": "2023-11-27T09:21:22.376906Z",
     "shell.execute_reply": "2023-11-27T09:21:22.376640Z"
    },
    "papermill": {
     "duration": 0.005089,
     "end_time": "2023-11-27T09:21:22.377810",
     "exception": false,
     "start_time": "2023-11-27T09:21:22.372721",
     "status": "completed"
    },
    "tags": []
   },
   "outputs": [],
   "source": [
    "import numpy as np\n",
    "\n",
    "# categorize ndvis\n",
    "\n",
    "def categorize(data, cats=[-100, 0.1, 0.3, 0.5, 100]):\n",
    "    data0 = data.copy()\n",
    "    for i, cat in enumerate(cats[:-1]):\n",
    "        data0[(data > cat) & (data <= cats[i+1])] = i\n",
    "    data0 = data0.astype(np.uint8)\n",
    "    return data0\n",
    "       \n",
    "for image in images:\n",
    "    ds = storage.read(image)\n",
    "    data = ds.read(1)\n",
    "    cats = categorize(data)\n",
    "    date = image.split(\"_\")[1].split(\".\")[0]\n",
    "    storage.create(cats, f\"cat_NDVI_{date}.tif\", ds=ds)"
   ]
  },
  {
   "cell_type": "code",
   "execution_count": 3,
   "id": "a14b6c10",
   "metadata": {
    "execution": {
     "iopub.execute_input": "2023-11-27T09:21:22.379686Z",
     "iopub.status.busy": "2023-11-27T09:21:22.379555Z",
     "iopub.status.idle": "2023-11-27T09:21:22.578591Z",
     "shell.execute_reply": "2023-11-27T09:21:22.578294Z"
    },
    "papermill": {
     "duration": 0.201249,
     "end_time": "2023-11-27T09:21:22.579740",
     "exception": false,
     "start_time": "2023-11-27T09:21:22.378491",
     "status": "completed"
    },
    "tags": []
   },
   "outputs": [],
   "source": [
    "import matplotlib.pyplot as plt\n",
    "\n",
    "# visualize categorized ndvis\n",
    "\n",
    "images = storage.list(\"cat_NDVI*\")\n",
    "for image in images:\n",
    "    ds = storage.read(image)\n",
    "    cats = ds.read(1)\n",
    "    date = image.split(\"_\")[2].split(\".\")[0]\n",
    "    plt.imshow(cats)\n",
    "    plt.title(date)\n",
    "    plt.axis(\"off\")\n",
    "    plt.show()\n"
   ]
  },
  {
   "cell_type": "code",
   "execution_count": 4,
   "id": "2d6bc0c8",
   "metadata": {
    "execution": {
     "iopub.execute_input": "2023-11-27T09:21:22.581992Z",
     "iopub.status.busy": "2023-11-27T09:21:22.581816Z",
     "iopub.status.idle": "2023-11-27T09:21:22.590242Z",
     "shell.execute_reply": "2023-11-27T09:21:22.589957Z"
    },
    "papermill": {
     "duration": 0.010509,
     "end_time": "2023-11-27T09:21:22.591187",
     "exception": false,
     "start_time": "2023-11-27T09:21:22.580678",
     "status": "completed"
    },
    "tags": []
   },
   "outputs": [
    {
     "data": {
      "text/html": [
       "<div>\n",
       "<style scoped>\n",
       "    .dataframe tbody tr th:only-of-type {\n",
       "        vertical-align: middle;\n",
       "    }\n",
       "\n",
       "    .dataframe tbody tr th {\n",
       "        vertical-align: top;\n",
       "    }\n",
       "\n",
       "    .dataframe thead th {\n",
       "        text-align: right;\n",
       "    }\n",
       "</style>\n",
       "<table border=\"1\" class=\"dataframe\">\n",
       "  <thead>\n",
       "    <tr style=\"text-align: right;\">\n",
       "      <th></th>\n",
       "      <th>bare ground</th>\n",
       "      <th>low</th>\n",
       "      <th>medium</th>\n",
       "      <th>high</th>\n",
       "    </tr>\n",
       "  </thead>\n",
       "  <tbody>\n",
       "  </tbody>\n",
       "</table>\n",
       "</div>"
      ],
      "text/plain": [
       "Empty DataFrame\n",
       "Columns: [bare ground, low, medium, high]\n",
       "Index: []"
      ]
     },
     "execution_count": 4,
     "metadata": {},
     "output_type": "execute_result"
    }
   ],
   "source": [
    "import pandas as pd\n",
    "\n",
    "# compute statistics\n",
    "\n",
    "stats = []\n",
    "mppx = 10 * 10  # meters per pixel\n",
    "hasppx = mppx / 10000  # hectares per square meter\n",
    "for image in images:\n",
    "    ds = storage.read(image)\n",
    "    data = ds.read(1)\n",
    "    counts = np.bincount(data.flatten())\n",
    "    has = counts * hasppx\n",
    "    stats.append(has)\n",
    "\n",
    "dates = [image.split(\"_\")[2].split(\".\")[0] for image in images]\n",
    "df = pd.DataFrame(stats, columns=['bare ground', 'low', 'medium', 'high'], index=dates)\n",
    "df.index = pd.to_datetime(df.index)\n",
    "df = df.sort_index()\n",
    "df"
   ]
  },
  {
   "cell_type": "code",
   "execution_count": 1,
   "metadata": {},
   "outputs": [
    {
     "data": {
      "text/plain": [
       "<spai.project.src.models.ProjectConfig.ProjectConfig at 0x1562ccee0>"
      ]
     },
     "execution_count": 1,
     "metadata": {},
     "output_type": "execute_result"
    }
   ],
   "source": [
    "from spai.project import ProjectConfig\n",
    "\n",
    "p = ProjectConfig()\n",
    "p"
   ]
  },
  {
   "cell_type": "code",
   "execution_count": 2,
   "metadata": {},
   "outputs": [
    {
     "data": {
      "text/plain": [
       "{'type': 'FeatureCollection',\n",
       " 'features': [{'type': 'Feature',\n",
       "   'properties': {},\n",
       "   'geometry': {'type': 'Polygon',\n",
       "    'coordinates': [[[3.07688064333496, 42.34062833138711],\n",
       "      [3.174751318648111, 42.34062833138711],\n",
       "      [3.174751318648111, 42.39784193720783],\n",
       "      [3.07688064333496, 42.39784193720783],\n",
       "      [3.07688064333496, 42.34062833138711]]]}}]}"
      ]
     },
     "execution_count": 2,
     "metadata": {},
     "output_type": "execute_result"
    }
   ],
   "source": [
    "p.aoi"
   ]
  },
  {
   "cell_type": "code",
   "execution_count": 5,
   "metadata": {},
   "outputs": [
    {
     "data": {
      "text/plain": [
       "['2020-08-01', '2020-08-21']"
      ]
     },
     "execution_count": 5,
     "metadata": {},
     "output_type": "execute_result"
    }
   ],
   "source": [
    "p.dates"
   ]
  },
  {
   "cell_type": "code",
   "execution_count": 6,
   "metadata": {},
   "outputs": [
    {
     "ename": "ArrowInvalid",
     "evalue": "Expected a local filesystem path, got a URI: 'https://data.source.coop/cholmes/google-open-buildings/geoparquet-by-country/country_iso=AF/AF.parquet'",
     "output_type": "error",
     "traceback": [
      "\u001b[0;31m---------------------------------------------------------------------------\u001b[0m",
      "\u001b[0;31mArrowInvalid\u001b[0m                              Traceback (most recent call last)",
      "\u001b[1;32m/Users/fran/Documents/Projects/spai-templates/forest-monitoring-template/notebooks/analytics/output.ipynb Cell 8\u001b[0m line \u001b[0;36m4\n\u001b[1;32m      <a href='vscode-notebook-cell:/Users/fran/Documents/Projects/spai-templates/forest-monitoring-template/notebooks/analytics/output.ipynb#X10sZmlsZQ%3D%3D?line=0'>1</a>\u001b[0m \u001b[39mimport\u001b[39;00m \u001b[39mgeopandas\u001b[39;00m \u001b[39mas\u001b[39;00m \u001b[39mgpd\u001b[39;00m\n\u001b[1;32m      <a href='vscode-notebook-cell:/Users/fran/Documents/Projects/spai-templates/forest-monitoring-template/notebooks/analytics/output.ipynb#X10sZmlsZQ%3D%3D?line=2'>3</a>\u001b[0m url \u001b[39m=\u001b[39m \u001b[39m'\u001b[39m\u001b[39mhttps://data.source.coop/cholmes/google-open-buildings/geoparquet-by-country/country_iso=AF/AF.parquet\u001b[39m\u001b[39m'\u001b[39m\n\u001b[0;32m----> <a href='vscode-notebook-cell:/Users/fran/Documents/Projects/spai-templates/forest-monitoring-template/notebooks/analytics/output.ipynb#X10sZmlsZQ%3D%3D?line=3'>4</a>\u001b[0m gdf \u001b[39m=\u001b[39m gpd\u001b[39m.\u001b[39;49mread_parquet(url)\n\u001b[1;32m      <a href='vscode-notebook-cell:/Users/fran/Documents/Projects/spai-templates/forest-monitoring-template/notebooks/analytics/output.ipynb#X10sZmlsZQ%3D%3D?line=4'>5</a>\u001b[0m gdf\n",
      "File \u001b[0;32m~/miniconda3/envs/spai/lib/python3.8/site-packages/geopandas/io/arrow.py:598\u001b[0m, in \u001b[0;36m_read_parquet\u001b[0;34m(path, columns, storage_options, **kwargs)\u001b[0m\n\u001b[1;32m    596\u001b[0m path \u001b[39m=\u001b[39m _expand_user(path)\n\u001b[1;32m    597\u001b[0m kwargs[\u001b[39m\"\u001b[39m\u001b[39muse_pandas_metadata\u001b[39m\u001b[39m\"\u001b[39m] \u001b[39m=\u001b[39m \u001b[39mTrue\u001b[39;00m\n\u001b[0;32m--> 598\u001b[0m table \u001b[39m=\u001b[39m parquet\u001b[39m.\u001b[39;49mread_table(path, columns\u001b[39m=\u001b[39;49mcolumns, filesystem\u001b[39m=\u001b[39;49mfilesystem, \u001b[39m*\u001b[39;49m\u001b[39m*\u001b[39;49mkwargs)\n\u001b[1;32m    600\u001b[0m \u001b[39m# read metadata separately to get the raw Parquet FileMetaData metadata\u001b[39;00m\n\u001b[1;32m    601\u001b[0m \u001b[39m# (pyarrow doesn't properly exposes those in schema.metadata for files\u001b[39;00m\n\u001b[1;32m    602\u001b[0m \u001b[39m# created by GDAL - https://issues.apache.org/jira/browse/ARROW-16688)\u001b[39;00m\n\u001b[1;32m    603\u001b[0m metadata \u001b[39m=\u001b[39m \u001b[39mNone\u001b[39;00m\n",
      "File \u001b[0;32m~/miniconda3/envs/spai/lib/python3.8/site-packages/pyarrow/parquet/core.py:2956\u001b[0m, in \u001b[0;36mread_table\u001b[0;34m(source, columns, use_threads, metadata, schema, use_pandas_metadata, read_dictionary, memory_map, buffer_size, partitioning, filesystem, filters, use_legacy_dataset, ignore_prefixes, pre_buffer, coerce_int96_timestamp_unit, decryption_properties, thrift_string_size_limit, thrift_container_size_limit)\u001b[0m\n\u001b[1;32m   2949\u001b[0m     \u001b[39mraise\u001b[39;00m \u001b[39mValueError\u001b[39;00m(\n\u001b[1;32m   2950\u001b[0m         \u001b[39m\"\u001b[39m\u001b[39mThe \u001b[39m\u001b[39m'\u001b[39m\u001b[39mmetadata\u001b[39m\u001b[39m'\u001b[39m\u001b[39m keyword is no longer supported with the new \u001b[39m\u001b[39m\"\u001b[39m\n\u001b[1;32m   2951\u001b[0m         \u001b[39m\"\u001b[39m\u001b[39mdatasets-based implementation. Specify \u001b[39m\u001b[39m\"\u001b[39m\n\u001b[1;32m   2952\u001b[0m         \u001b[39m\"\u001b[39m\u001b[39m'\u001b[39m\u001b[39muse_legacy_dataset=True\u001b[39m\u001b[39m'\u001b[39m\u001b[39m to temporarily recover the old \u001b[39m\u001b[39m\"\u001b[39m\n\u001b[1;32m   2953\u001b[0m         \u001b[39m\"\u001b[39m\u001b[39mbehaviour.\u001b[39m\u001b[39m\"\u001b[39m\n\u001b[1;32m   2954\u001b[0m     )\n\u001b[1;32m   2955\u001b[0m \u001b[39mtry\u001b[39;00m:\n\u001b[0;32m-> 2956\u001b[0m     dataset \u001b[39m=\u001b[39m _ParquetDatasetV2(\n\u001b[1;32m   2957\u001b[0m         source,\n\u001b[1;32m   2958\u001b[0m         schema\u001b[39m=\u001b[39;49mschema,\n\u001b[1;32m   2959\u001b[0m         filesystem\u001b[39m=\u001b[39;49mfilesystem,\n\u001b[1;32m   2960\u001b[0m         partitioning\u001b[39m=\u001b[39;49mpartitioning,\n\u001b[1;32m   2961\u001b[0m         memory_map\u001b[39m=\u001b[39;49mmemory_map,\n\u001b[1;32m   2962\u001b[0m         read_dictionary\u001b[39m=\u001b[39;49mread_dictionary,\n\u001b[1;32m   2963\u001b[0m         buffer_size\u001b[39m=\u001b[39;49mbuffer_size,\n\u001b[1;32m   2964\u001b[0m         filters\u001b[39m=\u001b[39;49mfilters,\n\u001b[1;32m   2965\u001b[0m         ignore_prefixes\u001b[39m=\u001b[39;49mignore_prefixes,\n\u001b[1;32m   2966\u001b[0m         pre_buffer\u001b[39m=\u001b[39;49mpre_buffer,\n\u001b[1;32m   2967\u001b[0m         coerce_int96_timestamp_unit\u001b[39m=\u001b[39;49mcoerce_int96_timestamp_unit,\n\u001b[1;32m   2968\u001b[0m         thrift_string_size_limit\u001b[39m=\u001b[39;49mthrift_string_size_limit,\n\u001b[1;32m   2969\u001b[0m         thrift_container_size_limit\u001b[39m=\u001b[39;49mthrift_container_size_limit,\n\u001b[1;32m   2970\u001b[0m     )\n\u001b[1;32m   2971\u001b[0m \u001b[39mexcept\u001b[39;00m \u001b[39mImportError\u001b[39;00m:\n\u001b[1;32m   2972\u001b[0m     \u001b[39m# fall back on ParquetFile for simple cases when pyarrow.dataset\u001b[39;00m\n\u001b[1;32m   2973\u001b[0m     \u001b[39m# module is not available\u001b[39;00m\n\u001b[1;32m   2974\u001b[0m     \u001b[39mif\u001b[39;00m filters \u001b[39mis\u001b[39;00m \u001b[39mnot\u001b[39;00m \u001b[39mNone\u001b[39;00m:\n",
      "File \u001b[0;32m~/miniconda3/envs/spai/lib/python3.8/site-packages/pyarrow/parquet/core.py:2482\u001b[0m, in \u001b[0;36m_ParquetDatasetV2.__init__\u001b[0;34m(self, path_or_paths, filesystem, filters, partitioning, read_dictionary, buffer_size, memory_map, ignore_prefixes, pre_buffer, coerce_int96_timestamp_unit, schema, decryption_properties, thrift_string_size_limit, thrift_container_size_limit, **kwargs)\u001b[0m\n\u001b[1;32m   2480\u001b[0m     \u001b[39mexcept\u001b[39;00m \u001b[39mValueError\u001b[39;00m:\n\u001b[1;32m   2481\u001b[0m         filesystem \u001b[39m=\u001b[39m LocalFileSystem(use_mmap\u001b[39m=\u001b[39mmemory_map)\n\u001b[0;32m-> 2482\u001b[0m finfo \u001b[39m=\u001b[39m filesystem\u001b[39m.\u001b[39;49mget_file_info(path_or_paths)\n\u001b[1;32m   2483\u001b[0m \u001b[39mif\u001b[39;00m finfo\u001b[39m.\u001b[39mis_file:\n\u001b[1;32m   2484\u001b[0m     single_file \u001b[39m=\u001b[39m path_or_paths\n",
      "File \u001b[0;32m~/miniconda3/envs/spai/lib/python3.8/site-packages/pyarrow/_fs.pyx:581\u001b[0m, in \u001b[0;36mpyarrow._fs.FileSystem.get_file_info\u001b[0;34m()\u001b[0m\n",
      "File \u001b[0;32m~/miniconda3/envs/spai/lib/python3.8/site-packages/pyarrow/error.pxi:154\u001b[0m, in \u001b[0;36mpyarrow.lib.pyarrow_internal_check_status\u001b[0;34m()\u001b[0m\n",
      "File \u001b[0;32m~/miniconda3/envs/spai/lib/python3.8/site-packages/pyarrow/error.pxi:91\u001b[0m, in \u001b[0;36mpyarrow.lib.check_status\u001b[0;34m()\u001b[0m\n",
      "\u001b[0;31mArrowInvalid\u001b[0m: Expected a local filesystem path, got a URI: 'https://data.source.coop/cholmes/google-open-buildings/geoparquet-by-country/country_iso=AF/AF.parquet'"
     ]
    }
   ],
   "source": [
    "import geopandas as gpd\n",
    "\n",
    "url = 'https://data.source.coop/cholmes/google-open-buildings/geoparquet-by-country/country_iso=AF/AF.parquet'\n",
    "gdf = gpd.read_parquet(url)\n",
    "gdf"
   ]
  }
 ],
 "metadata": {
  "kernelspec": {
   "display_name": "base",
   "language": "python",
   "name": "python3"
  },
  "language_info": {
   "codemirror_mode": {
    "name": "ipython",
    "version": 3
   },
   "file_extension": ".py",
   "mimetype": "text/x-python",
   "name": "python",
   "nbconvert_exporter": "python",
   "pygments_lexer": "ipython3",
   "version": "3.8.18"
  },
  "papermill": {
   "default_parameters": {},
   "duration": 1.781235,
   "end_time": "2023-11-27T09:21:22.809172",
   "environment_variables": {},
   "exception": null,
   "input_path": "main.ipynb",
   "output_path": "output.ipynb",
   "parameters": {},
   "start_time": "2023-11-27T09:21:21.027937",
   "version": "2.5.0"
  }
 },
 "nbformat": 4,
 "nbformat_minor": 5
}
