{
 "cells": [
  {
   "cell_type": "code",
   "execution_count": 1,
   "id": "b769ae98",
   "metadata": {
    "execution": {
     "iopub.execute_input": "2023-11-24T16:48:28.179543Z",
     "iopub.status.busy": "2023-11-24T16:48:28.179135Z",
     "iopub.status.idle": "2023-11-24T16:48:28.619251Z",
     "shell.execute_reply": "2023-11-24T16:48:28.618936Z"
    },
    "papermill": {
     "duration": 0.452534,
     "end_time": "2023-11-24T16:48:28.620282",
     "exception": false,
     "start_time": "2023-11-24T16:48:28.167748",
     "status": "completed"
    },
    "tags": []
   },
   "outputs": [
    {
     "name": "stdout",
     "output_type": "stream",
     "text": [
      "Found the following images: []\n"
     ]
    }
   ],
   "source": [
    "from spai.storage import Storage\n",
    "\n",
    "# retrieve all images\n",
    "storage = Storage(\"../../data\")\n",
    "images = storage.list(\"NDVI*\")\n",
    "print(\"Found the following images:\", images)"
   ]
  },
  {
   "cell_type": "code",
   "execution_count": 2,
   "id": "ca022e1f",
   "metadata": {
    "execution": {
     "iopub.execute_input": "2023-11-24T16:48:28.622857Z",
     "iopub.status.busy": "2023-11-24T16:48:28.622589Z",
     "iopub.status.idle": "2023-11-24T16:48:28.625590Z",
     "shell.execute_reply": "2023-11-24T16:48:28.625318Z"
    },
    "papermill": {
     "duration": 0.005117,
     "end_time": "2023-11-24T16:48:28.626492",
     "exception": false,
     "start_time": "2023-11-24T16:48:28.621375",
     "status": "completed"
    },
    "tags": []
   },
   "outputs": [],
   "source": [
    "import numpy as np\n",
    "\n",
    "# categorize ndvis\n",
    "\n",
    "def categorize(data, cats=[-100, 0.1, 0.3, 0.5, 100]):\n",
    "    data0 = data.copy()\n",
    "    for i, cat in enumerate(cats[:-1]):\n",
    "        data0[(data > cat) & (data <= cats[i+1])] = i\n",
    "    data0 = data0.astype(np.uint8)\n",
    "    return data0\n",
    "       \n",
    "for image in images:\n",
    "    ds = storage.read(image)\n",
    "    data = ds.read(1)\n",
    "    cats = categorize(data)\n",
    "    date = image.split(\"_\")[1].split(\".\")[0]\n",
    "    storage.create(cats, f\"cat_NDVI_{date}.tif\", ds=ds)"
   ]
  },
  {
   "cell_type": "code",
   "execution_count": 3,
   "id": "5d685523",
   "metadata": {
    "execution": {
     "iopub.execute_input": "2023-11-24T16:48:28.628568Z",
     "iopub.status.busy": "2023-11-24T16:48:28.628456Z",
     "iopub.status.idle": "2023-11-24T16:48:28.840221Z",
     "shell.execute_reply": "2023-11-24T16:48:28.839917Z"
    },
    "papermill": {
     "duration": 0.214174,
     "end_time": "2023-11-24T16:48:28.841450",
     "exception": false,
     "start_time": "2023-11-24T16:48:28.627276",
     "status": "completed"
    },
    "tags": []
   },
   "outputs": [],
   "source": [
    "import matplotlib.pyplot as plt\n",
    "\n",
    "# visualize categorized ndvis\n",
    "\n",
    "images = storage.list(\"cat_NDVI*\")\n",
    "for image in images:\n",
    "    ds = storage.read(image)\n",
    "    cats = ds.read(1)\n",
    "    date = image.split(\"_\")[2].split(\".\")[0]\n",
    "    plt.imshow(cats)\n",
    "    plt.title(date)\n",
    "    plt.axis(\"off\")\n",
    "    plt.show()\n"
   ]
  },
  {
   "cell_type": "code",
   "execution_count": 4,
   "id": "2cd96f8f",
   "metadata": {
    "execution": {
     "iopub.execute_input": "2023-11-24T16:48:28.843910Z",
     "iopub.status.busy": "2023-11-24T16:48:28.843729Z",
     "iopub.status.idle": "2023-11-24T16:48:28.852197Z",
     "shell.execute_reply": "2023-11-24T16:48:28.851942Z"
    },
    "papermill": {
     "duration": 0.010639,
     "end_time": "2023-11-24T16:48:28.853110",
     "exception": false,
     "start_time": "2023-11-24T16:48:28.842471",
     "status": "completed"
    },
    "tags": []
   },
   "outputs": [
    {
     "data": {
      "text/html": [
       "<div>\n",
       "<style scoped>\n",
       "    .dataframe tbody tr th:only-of-type {\n",
       "        vertical-align: middle;\n",
       "    }\n",
       "\n",
       "    .dataframe tbody tr th {\n",
       "        vertical-align: top;\n",
       "    }\n",
       "\n",
       "    .dataframe thead th {\n",
       "        text-align: right;\n",
       "    }\n",
       "</style>\n",
       "<table border=\"1\" class=\"dataframe\">\n",
       "  <thead>\n",
       "    <tr style=\"text-align: right;\">\n",
       "      <th></th>\n",
       "      <th>bare ground</th>\n",
       "      <th>low</th>\n",
       "      <th>medium</th>\n",
       "      <th>high</th>\n",
       "    </tr>\n",
       "  </thead>\n",
       "  <tbody>\n",
       "  </tbody>\n",
       "</table>\n",
       "</div>"
      ],
      "text/plain": [
       "Empty DataFrame\n",
       "Columns: [bare ground, low, medium, high]\n",
       "Index: []"
      ]
     },
     "execution_count": 4,
     "metadata": {},
     "output_type": "execute_result"
    }
   ],
   "source": [
    "import pandas as pd\n",
    "\n",
    "# compute statistics\n",
    "\n",
    "stats = []\n",
    "mppx = 10 * 10  # meters per pixel\n",
    "hasppx = mppx / 10000  # hectares per square meter\n",
    "for image in images:\n",
    "    ds = storage.read(image)\n",
    "    data = ds.read(1)\n",
    "    counts = np.bincount(data.flatten())\n",
    "    has = counts * hasppx\n",
    "    stats.append(has)\n",
    "\n",
    "dates = [image.split(\"_\")[2].split(\".\")[0] for image in images]\n",
    "df = pd.DataFrame(stats, columns=['bare ground', 'low', 'medium', 'high'], index=dates)\n",
    "df.index = pd.to_datetime(df.index)\n",
    "df = df.sort_index()\n",
    "df"
   ]
  }
 ],
 "metadata": {
  "kernelspec": {
   "display_name": "base",
   "language": "python",
   "name": "python3"
  },
  "language_info": {
   "codemirror_mode": {
    "name": "ipython",
    "version": 3
   },
   "file_extension": ".py",
   "mimetype": "text/x-python",
   "name": "python",
   "nbconvert_exporter": "python",
   "pygments_lexer": "ipython3",
   "version": "3.8.18"
  },
  "papermill": {
   "default_parameters": {},
   "duration": 1.898444,
   "end_time": "2023-11-24T16:48:29.086229",
   "environment_variables": {},
   "exception": null,
   "input_path": "main.ipynb",
   "output_path": "output.ipynb",
   "parameters": {},
   "start_time": "2023-11-24T16:48:27.187785",
   "version": "2.5.0"
  }
 },
 "nbformat": 4,
 "nbformat_minor": 5
}
