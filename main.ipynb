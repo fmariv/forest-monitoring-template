{
 "cells": [
  {
   "cell_type": "code",
   "execution_count": 1,
   "metadata": {},
   "outputs": [
    {
     "data": {
      "text/plain": [
       "{'name': 'Forest Monitoring',\n",
       " 'description': 'Template for forest monitoring in a given area of interest',\n",
       " 'services': {'scripts': {'downloader': {'storage': 'data',\n",
       "    'run_on_start': True,\n",
       "    'run_every': 5,\n",
       "    'env': ['SH_CLIENT_ID', 'SH_CLIENT_SECRET']},\n",
       "   'ndvi': {'storage': 'data', 'run_on_start': False, 'run_every': 5}},\n",
       "  'notebooks': {'analytics': {'storage': 'data',\n",
       "    'run_every': 1,\n",
       "    'run_on_start': False}},\n",
       "  'apis': {'analytics': {'storage': 'data', 'port': 8010},\n",
       "   'xyz': {'storage': 'data', 'port': 8080}},\n",
       "  'uis': {'map': {'port': 5000,\n",
       "    'command': 'streamlit run uis/map/main.py --server.address localhost',\n",
       "    'apis': {'ANALYTICS_URL': 'api_analytics', 'XYZ_URL': 'api_xyz'}}}},\n",
       " 'variables': {'AOI': {'type': 'GeoJSON',\n",
       "   'UI': ['DRAW_GEOJSON_MAP', 'UPLOAD_GEOJSON']},\n",
       "  'DATES': {'type': 'DateRange', 'UI': 'DATE_RANGE'},\n",
       "  'SH_CLIENT_ID': {'type': 'string', 'UI': 'TEXT', 'secret': True},\n",
       "  'SH_CLIENT_SECRET': {'type': 'string', 'UI': 'TEXT', 'secret': True}}}"
      ]
     },
     "execution_count": 1,
     "metadata": {},
     "output_type": "execute_result"
    }
   ],
   "source": [
    "import json\n",
    "\n",
    "f = open('spai.config.json')\n",
    "\n",
    "data = json.load(f)\n",
    " \n",
    "data"
   ]
  },
  {
   "cell_type": "code",
   "execution_count": 2,
   "metadata": {},
   "outputs": [],
   "source": [
    "data['variables']['SH_CLIENT_ID']['value'] = '1234567890'\n",
    "data['variables']['SH_CLIENT_SECRET']['value'] = '1234567890'\n",
    "data['variables']['DATES']['value'] = ('2020-01-01', '2020-01-02')\n",
    "data['variables']['AOI']['value'] = {\n",
    "  \"type\": \"FeatureCollection\",\n",
    "  \"features\": [\n",
    "    {\n",
    "      \"type\": \"Feature\",\n",
    "      \"properties\": {},\n",
    "      \"geometry\": {\n",
    "        \"coordinates\": [\n",
    "          [\n",
    "            [\n",
    "              10.615928224550458,\n",
    "              35.81502229321019\n",
    "            ],\n",
    "            [\n",
    "              10.650520743216134,\n",
    "              35.81502229321019\n",
    "            ],\n",
    "            [\n",
    "              10.650520743216134,\n",
    "              35.83669214831329\n",
    "            ],\n",
    "            [\n",
    "              10.615928224550458,\n",
    "              35.83669214831329\n",
    "            ],\n",
    "            [\n",
    "              10.615928224550458,\n",
    "              35.81502229321019\n",
    "            ]\n",
    "          ]\n",
    "        ],\n",
    "        \"type\": \"Polygon\"\n",
    "      }\n",
    "    }\n",
    "  ]\n",
    "}"
   ]
  },
  {
   "cell_type": "code",
   "execution_count": 3,
   "metadata": {},
   "outputs": [],
   "source": [
    "import yaml\n",
    "\n",
    "with open('.env', 'w') as f:\n",
    "    for k, i in data['variables'].items():\n",
    "        if 'secret' in i and i['secret'] == True:\n",
    "            f.write(f'{k}={i[\"value\"]}\\n')\n",
    "            del data['variables'][k]['value']\n",
    "\n",
    "data_without_variables = data.copy()\n",
    "del data_without_variables['variables']\n",
    "\n",
    "with open('spai.config_.json', 'w') as outfile:\n",
    "    json.dump(data, outfile)"
   ]
  }
 ],
 "metadata": {
  "kernelspec": {
   "display_name": "sen12floods",
   "language": "python",
   "name": "python3"
  },
  "language_info": {
   "codemirror_mode": {
    "name": "ipython",
    "version": 3
   },
   "file_extension": ".py",
   "mimetype": "text/x-python",
   "name": "python",
   "nbconvert_exporter": "python",
   "pygments_lexer": "ipython3",
   "version": "3.11.3"
  }
 },
 "nbformat": 4,
 "nbformat_minor": 2
}
